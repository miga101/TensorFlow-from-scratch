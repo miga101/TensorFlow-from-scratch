{
 "cells": [
  {
   "cell_type": "markdown",
   "metadata": {},
   "source": [
    "# MNIST NN digits classifier in TensorFlow"
   ]
  },
  {
   "cell_type": "markdown",
   "metadata": {},
   "source": [
    "### get the data from TF tutorials mnist"
   ]
  },
  {
   "cell_type": "code",
   "execution_count": 7,
   "metadata": {
    "collapsed": false
   },
   "outputs": [
    {
     "name": "stdout",
     "output_type": "stream",
     "text": [
      "Extracting MNIST_data/train-images-idx3-ubyte.gz\n",
      "Extracting MNIST_data/train-labels-idx1-ubyte.gz\n",
      "Extracting MNIST_data/t10k-images-idx3-ubyte.gz\n",
      "Extracting MNIST_data/t10k-labels-idx1-ubyte.gz\n"
     ]
    }
   ],
   "source": [
    "import tensorflow as tf\n",
    "from tensorflow.examples.tutorials.mnist import input_data\n",
    "import matplotlib.pyplot as plt\n",
    "\n",
    "# as a one-hot encoder vector\n",
    "mnist = input_data.read_data_sets(\"MNIST_data/\", one_hot=True)"
   ]
  },
  {
   "cell_type": "markdown",
   "metadata": {},
   "source": [
    "### Tensorflow place holder, variables and core functions for a simple model"
   ]
  },
  {
   "cell_type": "code",
   "execution_count": 3,
   "metadata": {
    "collapsed": false
   },
   "outputs": [],
   "source": [
    "# one-hot encoder entry data\n",
    "x = tf.placeholder(\"float\", [None, 784])\n",
    "# Weights tensor entry_size * output_size\n",
    "W = tf.Variable(tf.zeros([784, 10]))\n",
    "# Bias tensor * output_size\n",
    "b = tf.Variable(tf.zeros([10]))\n",
    "\n",
    "# Probability distribution with Softmax function over logits\n",
    "y = tf.nn.softmax(tf.matmul(x, W) + b)\n",
    "# Outputs labels\n",
    "y_ = tf.placeholder(\"float\", [None, 10])\n",
    "# Cross entropy to measure performance\n",
    "cross_entropy = -tf.reduce_sum(y_ * tf.log(y))\n",
    "\n",
    "# Gradiant descent Optimizer\n",
    "epsilon = 0.01  # learning rate\n",
    "train_step = tf.train.GradientDescentOptimizer(epsilon).minimize(cross_entropy)\n"
   ]
  },
  {
   "cell_type": "markdown",
   "metadata": {},
   "source": [
    "## TensorFlow session"
   ]
  },
  {
   "cell_type": "markdown",
   "metadata": {},
   "source": [
    "### Training iteration proccess and accuracy computation"
   ]
  },
  {
   "cell_type": "code",
   "execution_count": 10,
   "metadata": {
    "collapsed": false
   },
   "outputs": [
    {
     "name": "stdout",
     "output_type": "stream",
     "text": [
      "0  Training accuracy: 40.75%\n",
      "10  Training accuracy: 82.45%\n",
      "20  Training accuracy: 69.86%\n",
      "30  Training accuracy: 84.02%\n",
      "40  Training accuracy: 86.56%\n",
      "50  Training accuracy: 85.45%\n",
      "60  Training accuracy: 87.95%\n",
      "70  Training accuracy: 84.94%\n",
      "80  Training accuracy: 86.24%\n",
      "90  Training accuracy: 80.47%\n",
      "100  Training accuracy: 89.40%\n",
      "110  Training accuracy: 89.42%\n",
      "120  Training accuracy: 89.61%\n",
      "130  Training accuracy: 89.68%\n",
      "140  Training accuracy: 90.22%\n",
      "150  Training accuracy: 90.15%\n",
      "160  Training accuracy: 88.17%\n",
      "170  Training accuracy: 90.12%\n",
      "180  Training accuracy: 88.88%\n",
      "190  Training accuracy: 89.99%\n",
      "200  Training accuracy: 89.89%\n",
      "210  Training accuracy: 90.37%\n",
      "220  Training accuracy: 89.41%\n",
      "230  Training accuracy: 90.61%\n",
      "240  Training accuracy: 90.45%\n",
      "250  Training accuracy: 88.78%\n",
      "260  Training accuracy: 90.79%\n",
      "270  Training accuracy: 90.64%\n",
      "280  Training accuracy: 88.86%\n",
      "290  Training accuracy: 90.96%\n",
      "300  Training accuracy: 90.12%\n",
      "310  Training accuracy: 90.26%\n",
      "320  Training accuracy: 90.39%\n",
      "330  Training accuracy: 90.18%\n",
      "340  Training accuracy: 91.16%\n",
      "350  Training accuracy: 90.00%\n",
      "360  Training accuracy: 91.03%\n",
      "370  Training accuracy: 90.18%\n",
      "380  Training accuracy: 89.45%\n",
      "390  Training accuracy: 91.34%\n",
      "400  Training accuracy: 90.40%\n",
      "410  Training accuracy: 90.09%\n",
      "420  Training accuracy: 90.53%\n",
      "430  Training accuracy: 91.11%\n",
      "440  Training accuracy: 90.80%\n",
      "450  Training accuracy: 90.39%\n",
      "460  Training accuracy: 91.43%\n",
      "470  Training accuracy: 90.85%\n",
      "480  Training accuracy: 88.60%\n",
      "490  Training accuracy: 90.78%\n",
      "500  Training accuracy: 91.05%\n",
      "510  Training accuracy: 91.42%\n",
      "520  Training accuracy: 90.58%\n",
      "530  Training accuracy: 91.24%\n",
      "540  Training accuracy: 91.12%\n",
      "550  Training accuracy: 89.42%\n",
      "560  Training accuracy: 91.58%\n",
      "570  Training accuracy: 91.35%\n",
      "580  Training accuracy: 90.84%\n",
      "590  Training accuracy: 90.52%\n",
      "600  Training accuracy: 91.19%\n",
      "610  Training accuracy: 91.51%\n",
      "620  Training accuracy: 91.65%\n",
      "630  Training accuracy: 90.62%\n",
      "640  Training accuracy: 89.00%\n",
      "650  Training accuracy: 91.76%\n",
      "660  Training accuracy: 90.96%\n",
      "670  Training accuracy: 91.61%\n",
      "680  Training accuracy: 91.78%\n",
      "690  Training accuracy: 91.50%\n",
      "700  Training accuracy: 90.66%\n",
      "710  Training accuracy: 91.54%\n",
      "720  Training accuracy: 91.86%\n",
      "730  Training accuracy: 90.90%\n",
      "740  Training accuracy: 91.57%\n",
      "750  Training accuracy: 91.80%\n",
      "760  Training accuracy: 91.45%\n",
      "770  Training accuracy: 90.91%\n",
      "780  Training accuracy: 91.35%\n",
      "790  Training accuracy: 91.85%\n",
      "800  Training accuracy: 91.74%\n",
      "810  Training accuracy: 90.61%\n",
      "820  Training accuracy: 90.55%\n",
      "830  Training accuracy: 91.19%\n",
      "840  Training accuracy: 91.27%\n",
      "850  Training accuracy: 90.53%\n",
      "860  Training accuracy: 91.40%\n",
      "870  Training accuracy: 91.18%\n",
      "880  Training accuracy: 91.92%\n",
      "890  Training accuracy: 90.89%\n",
      "900  Training accuracy: 91.83%\n",
      "910  Training accuracy: 91.47%\n",
      "920  Training accuracy: 91.52%\n",
      "930  Training accuracy: 91.21%\n",
      "940  Training accuracy: 90.93%\n",
      "950  Training accuracy: 91.09%\n",
      "960  Training accuracy: 92.12%\n",
      "970  Training accuracy: 91.28%\n",
      "980  Training accuracy: 91.85%\n",
      "990  Training accuracy: 91.96%\n"
     ]
    }
   ],
   "source": [
    "epochs = 1000 # numer of iteratons\n",
    "batch_size = 100\n",
    "\n",
    "# start Tensorflow session\n",
    "sess = tf.Session()\n",
    "sess.run(tf.global_variables_initializer())\n",
    "\n",
    "acc = []\n",
    "for i in range(epochs):\n",
    "    batch_xs, batch_ys = mnist.train.next_batch(batch_size)  # not optimal, repeating cases?!!?\n",
    "    sess.run(train_step, feed_dict={x: batch_xs, y_: batch_ys})\n",
    "    # compare predicted y with real labes get boolean values\n",
    "    correct_prediction = tf.equal(tf.argmax(y, 1), tf.argmax(y_, 1))\n",
    "    # convert boolean values to reals and get the mean\n",
    "    accuracy = tf.reduce_mean(tf.cast(correct_prediction, \"float\"))\n",
    "    a = sess.run(accuracy, feed_dict={x: mnist.test.images, y_: mnist.test.labels})\n",
    "    acc.append(a)\n",
    "    if i % 10 == 0:\n",
    "        print(i, ' Training accuracy: %.2f%%' % (a * 100))\n"
   ]
  },
  {
   "cell_type": "markdown",
   "metadata": {},
   "source": [
    "### Plot accuracy"
   ]
  },
  {
   "cell_type": "code",
   "execution_count": 11,
   "metadata": {
    "collapsed": false
   },
   "outputs": [
    {
     "data": {
      "image/png": "[encoded data removed]",
      "text/plain": [
       "<matplotlib.figure.Figure at 0x22e265d2710>"
      ]
     },
     "metadata": {},
     "output_type": "display_data"
    }
   ],
   "source": [
    "plt.plot(acc, linewidth=1, label=\"acc\")\n",
    "plt.grid()\n",
    "plt.legend(loc='upper center', bbox_to_anchor=(0.5, -0.05),\n",
    "          fancybox=True, shadow=True, ncol=5)\n",
    "plt.show()"
   ]
  },
  {
   "cell_type": "markdown",
   "metadata": {},
   "source": []
  },
  {
   "cell_type": "code",
   "execution_count": null,
   "metadata": {
    "collapsed": true
   },
   "outputs": [],
   "source": []
  }
 ],
 "metadata": {
  "anaconda-cloud": {},
  "kernelspec": {
   "display_name": "Python [conda root]",
   "language": "python",
   "name": "conda-root-py"
  },
  "language_info": {
   "codemirror_mode": {
    "name": "ipython",
    "version": 3
   },
   "file_extension": ".py",
   "mimetype": "text/x-python",
   "name": "python",
   "nbconvert_exporter": "python",
   "pygments_lexer": "ipython3",
   "version": "3.5.2"
  }
 },
 "nbformat": 4,
 "nbformat_minor": 1
}
